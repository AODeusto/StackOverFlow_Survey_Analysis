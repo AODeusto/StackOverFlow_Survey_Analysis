{
 "cells": [
  {
   "cell_type": "markdown",
   "metadata": {},
   "source": [
    "*Link to Josh post about how to get into the field, as a reason on why I am not focusing on the Education level needed to get into tech. It is basically anwered  on his post*\n",
    "\n",
    "- Evolution of Salary per countries. \n",
    "    - ***Where has it grown*** more. ----> Time series \n",
    "    - ***Where people code more as a hobby*** ('hobby'/number of coders for country). It shows an interesting insight of ***where to look for talent***.\n",
    "    - What ***feature*** has ***more influence in the salary*** nowadays for the ***top 10 countries***(only 2018 survey). ---> Predictive model\n",
    "\n",
    "- Evolution of Women in tech teams:\n",
    "    - 'women_on_team' , 'gender' ---> Time series\n",
    "    - Check correlation with:\n",
    "        - 'company_size_range' \n",
    "        - 'agree_diversity' \n",
    "    - Salary comparison for whole population of men and women (2018)\n",
    "    - Salary comparison for the top paids (2018)\n",
    "\n",
    "- Tecnologies used, or WHAT TO LEARN TO GET INTO TECH?:\n",
    "    - 'tech_do' What is growing, what is shrinking ---> Time series\n",
    "    - 'agree_tech' filtrar por 'tech_do' to see what programming language seems to be more satisfying for proffesionals. Relation with 'Salary' could be interesting.   \n",
    "    - 'important_newtech' How important is learning new techs. Crossing 'tech_want' and 'open_to_new_job' can show where proffesionals want to move towards. \n",
    "\n",
    "- Remote working:\n",
    "    - 'remote' and 'important_wfh' evolution (¿per country multiline plot?) ----> Time series\n",
    "    - Proportion of remote positions per country (2018)\n"
   ]
  },
  {
   "cell_type": "code",
   "execution_count": 1,
   "metadata": {},
   "outputs": [],
   "source": [
    "import numpy as np\n",
    "import pandas as pd\n",
    "\n",
    "import matplotlib.pyplot as plt\n",
    "import seaborn as sns\n",
    "\n",
    "from sklearn.linear_model import LinearRegression\n",
    "from sklearn.model_selection import train_test_split\n",
    "from sklearn.metrics import r2_score, mean_squared_error\n",
    "\n",
    "import warnings; warnings.simplefilter('ignore')\n",
    "\n",
    "from collections import OrderedDict\n",
    "from datetime import date\n"
   ]
  },
  {
   "cell_type": "code",
   "execution_count": 2,
   "metadata": {},
   "outputs": [
    {
     "name": "stdout",
     "output_type": "stream",
     "text": [
      "(2814, 65)\n",
      "(6244, 75)\n",
      "(9743, 128)\n",
      "(7644, 120)\n",
      "(26087, 222)\n",
      "(56030, 66)\n",
      "(51392, 154)\n",
      "(98855, 129)\n"
     ]
    }
   ],
   "source": [
    "# Reading csv from survey files and storing them in a dictionary\n",
    "dfs = {}\n",
    "years = ['2011','2012','2013','2014','2015','2016','2017','2018']\n",
    "for i in years:\n",
    "    name = 'df_'+ i\n",
    "    try:\n",
    "        dfs[name] = df_i = pd.read_csv('./'+ i +'_survey_results.csv')\n",
    "    except UnicodeDecodeError:\n",
    "        dfs[name] = df_i = pd.read_csv('./'+ i +'_survey_results.csv', encoding = 'ISO-8859-1')\n",
    "\n",
    "# Comparing shapes, I suspect they are not evenly organized\n",
    "for year in list(dfs.keys()):\n",
    "    print(dfs[year].shape)"
   ]
  },
  {
   "cell_type": "markdown",
   "metadata": {},
   "source": [
    "**Working people**\n",
    "\n",
    "We want to know the proportion of gender and programming languages used within tech proffesionals. For that, we need get rid of all the non-proffesional developers that filled the survey. For that let´s reduce the dataframes to only the people with a current salary. We can make a function but is a mess due to different column names in different dataframes."
   ]
  },
  {
   "cell_type": "code",
   "execution_count": 3,
   "metadata": {},
   "outputs": [],
   "source": [
    "# The column names for df_2015 are written in the first row of the dataset, let´s\n",
    "# place them where they should be\n",
    "dfs['df_2015'].columns = list(dfs['df_2015'].iloc[0,:])"
   ]
  },
  {
   "cell_type": "code",
   "execution_count": 4,
   "metadata": {},
   "outputs": [],
   "source": [
    "years = ['2011','2012','2013','2014','2015','2016','2017','2018']\n",
    "col_names = ['Including bonus, what is your annual compensation in USD?',\n",
    "            'Including bonus, what is your annual compensation in USD?',\n",
    "            'Including bonus, what is your annual compensation in USD?',\n",
    "            'Including bonus, what is your annual compensation in USD?',\n",
    "            'Compensation', 'salary_range', 'Salary', 'Salary']\n",
    "no_salary_value = ['Student / Unemployed', 'Student / Unemployed',\n",
    "                  'Student / Unemployed', 'Student / Unemployed',\n",
    "                  'Unemployed', 'Unemployed', 'any', 'any']\n",
    "year_dfs = {}\n",
    "for year,col,no_salary_value in zip(years,col_names, no_salary_value):\n",
    "    name = 'df_'+ year\n",
    "    # drop rows where salary is null\n",
    "    year_dfs[name] = dfs[name][dfs[name][col].isnull() == False]\n",
    "    # drop rows where salary is == unemployed, student,etc\n",
    "    # for all dfs values in salay are categorical, 2017 and 2018 are numbers\n",
    "    if (year != '2017') and (year != '2018'): \n",
    "        year_dfs[name] = year_dfs[name][year_dfs[name][col] != no_salary_value]\n",
    "    else:\n",
    "        year_dfs[name] = year_dfs[name][year_dfs[name][col]!=0]\n",
    "            "
   ]
  },
  {
   "cell_type": "code",
   "execution_count": 5,
   "metadata": {},
   "outputs": [
    {
     "data": {
      "text/html": [
       "<div>\n",
       "<style scoped>\n",
       "    .dataframe tbody tr th:only-of-type {\n",
       "        vertical-align: middle;\n",
       "    }\n",
       "\n",
       "    .dataframe tbody tr th {\n",
       "        vertical-align: top;\n",
       "    }\n",
       "\n",
       "    .dataframe thead th {\n",
       "        text-align: right;\n",
       "    }\n",
       "</style>\n",
       "<table border=\"1\" class=\"dataframe\">\n",
       "  <thead>\n",
       "    <tr style=\"text-align: right;\">\n",
       "      <th></th>\n",
       "      <th>Unnamed: 0</th>\n",
       "      <th>collector</th>\n",
       "      <th>country</th>\n",
       "      <th>un_subregion</th>\n",
       "      <th>so_region</th>\n",
       "      <th>age_range</th>\n",
       "      <th>age_midpoint</th>\n",
       "      <th>gender</th>\n",
       "      <th>self_identification</th>\n",
       "      <th>occupation</th>\n",
       "      <th>...</th>\n",
       "      <th>important_sameend</th>\n",
       "      <th>important_newtech</th>\n",
       "      <th>important_buildnew</th>\n",
       "      <th>important_buildexisting</th>\n",
       "      <th>important_promotion</th>\n",
       "      <th>important_companymission</th>\n",
       "      <th>important_wfh</th>\n",
       "      <th>important_ownoffice</th>\n",
       "      <th>developer_challenges</th>\n",
       "      <th>why_stack_overflow</th>\n",
       "    </tr>\n",
       "  </thead>\n",
       "  <tbody>\n",
       "  </tbody>\n",
       "</table>\n",
       "<p>0 rows × 66 columns</p>\n",
       "</div>"
      ],
      "text/plain": [
       "Empty DataFrame\n",
       "Columns: [Unnamed: 0, collector, country, un_subregion, so_region, age_range, age_midpoint, gender, self_identification, occupation, occupation_group, experience_range, experience_midpoint, salary_range, salary_midpoint, big_mac_index, tech_do, tech_want, aliens, programming_ability, employment_status, industry, company_size_range, team_size_range, women_on_team, remote, job_satisfaction, job_discovery, dev_environment, commit_frequency, hobby, dogs_vs_cats, desktop_os, unit_testing, rep_range, visit_frequency, why_learn_new_tech, education, open_to_new_job, new_job_value, job_search_annoyance, interview_likelihood, how_to_improve_interview_process, star_wars_vs_star_trek, agree_tech, agree_notice, agree_problemsolving, agree_diversity, agree_adblocker, agree_alcohol, agree_loveboss, agree_nightcode, agree_legacy, agree_mars, important_variety, important_control, important_sameend, important_newtech, important_buildnew, important_buildexisting, important_promotion, important_companymission, important_wfh, important_ownoffice, developer_challenges, why_stack_overflow]\n",
       "Index: []\n",
       "\n",
       "[0 rows x 66 columns]"
      ]
     },
     "execution_count": 5,
     "metadata": {},
     "output_type": "execute_result"
    }
   ],
   "source": [
    "# Let´s check if it has worked\n",
    "year_dfs['df_2016'][year_dfs['df_2016']['salary_range']=='Unemployed']"
   ]
  },
  {
   "cell_type": "markdown",
   "metadata": {},
   "source": [
    "**Next steps**\n",
    "\n",
    "Now we already have a dictionary containing the 8 DataFrames with information just about working people with a real salary, no matters the range. From now on, we will wrangle the data in terms of gender and programming languages.\n",
    "\n",
    "**Easing the path to analyze 8 DataFrames**\n",
    "\n",
    "I want to inspect the information looking for the **evolution of women involvement in Tech**, and similarly with the **increase or decrease in the use of certain technologies**. It is going to be a mess as each survey is organized in a different manner. Let´s use the use the following script to look for the columns I need to create time series dataframes with info from different years."
   ]
  },
  {
   "cell_type": "code",
   "execution_count": 6,
   "metadata": {},
   "outputs": [],
   "source": [
    "# Inspect each df within the dictionary looking for the information\n",
    "def inspect_dfs(keys, dictio):\n",
    "    '''\n",
    "    INPUT: \n",
    "        - keys(list of strings to be contained in any of the columns names)\n",
    "        - dictio : dictionary with years as keys and corresponding Dataframes \n",
    "        as values.\n",
    "    \n",
    "    This function calculates the mode for each column of each DataFrame.\n",
    "    Then it looks for the given keys along those modes, printing whether they\n",
    "    are found or not, and where \n",
    "    '''\n",
    "    for year in dictio.keys():\n",
    "        new_df = dictio[year]\n",
    "        # Drop non-object type columns as we will be comparing strings\n",
    "        cat_df = dictio[year].select_dtypes(include = ['object'])\n",
    "        print('YEAR {}'.format(year))\n",
    "\n",
    "        for g_key in keys: \n",
    "            for col in cat_df.columns:\n",
    "                try:\n",
    "                    if g_key in cat_df[col].mode()[0]:\n",
    "                        print('{} appears in column {}'.format(g_key,col))\n",
    "                except IndexError:\n",
    "                    continue"
   ]
  },
  {
   "cell_type": "code",
   "execution_count": 7,
   "metadata": {},
   "outputs": [
    {
     "name": "stdout",
     "output_type": "stream",
     "text": [
      "YEAR df_2011\n",
      "YEAR df_2012\n",
      "YEAR df_2013\n",
      "Man appears in column Unnamed: 11\n",
      "man appears in column Unnamed: 18\n",
      "YEAR df_2014\n",
      "Male appears in column What is your gender?\n",
      "YEAR df_2015\n",
      "Male appears in column Gender\n",
      "YEAR df_2016\n",
      "Male appears in column gender\n",
      "YEAR df_2017\n",
      "Male appears in column Gender\n",
      "YEAR df_2018\n",
      "Male appears in column Gender\n",
      "man appears in column EthicsResponsible\n"
     ]
    }
   ],
   "source": [
    "# Inspect for gender related columns in the 8 datasets\n",
    "gender_keys = ['Male', 'male', 'Female', 'female',\n",
    "               'Man', 'man', 'Woman', 'woman']\n",
    "\n",
    "inspect_dfs(gender_keys, year_dfs)"
   ]
  },
  {
   "cell_type": "markdown",
   "metadata": {},
   "source": [
    "**Function to create a time series dataframe**\n",
    "\n",
    "Once we have spotted where in each dataset we can find information related with whatever we are looking for, let´s extract this info and build a time series with it. The idea is to start the analysis with different features in time series, so let´s **build a function for that task**."
   ]
  },
  {
   "cell_type": "code",
   "execution_count": 8,
   "metadata": {},
   "outputs": [],
   "source": [
    "def create_time_series(years, col_names, source_dict):\n",
    "    values = []\n",
    "    for year,col_name in zip(years, col_names):\n",
    "        name_df = 'df_'+year\n",
    "        year_values = source_dict[name_df][col_name].value_counts().to_dict()\n",
    "        values.append(year_values)    # store dictionaries in a list, to create the df by rows\n",
    "    new_df = pd.DataFrame(values, index=years)\n",
    "    return new_df"
   ]
  },
  {
   "cell_type": "code",
   "execution_count": 9,
   "metadata": {},
   "outputs": [],
   "source": [
    "years = ['2014', '2015', '2016', '2017', '2018']\n",
    "col_names = ['What is your gender?', 'Gender', 'gender', 'Gender', 'Gender']\n",
    "\n",
    "gender_df = create_time_series(years, col_names, year_dfs)"
   ]
  },
  {
   "cell_type": "code",
   "execution_count": 10,
   "metadata": {},
   "outputs": [],
   "source": [
    "female_df = pd.DataFrame()\n",
    "male_df = pd.DataFrame()\n",
    "others_df = pd.DataFrame()\n",
    "for col in gender_df.columns:\n",
    "    if ('Male' in col) and ('Female' not in col):\n",
    "        male_df[col] = gender_df[col]\n",
    "    if 'Female' in col:\n",
    "        female_df[col] = gender_df[col]\n",
    "    if ('Male' not in col) and ('Female' not in col):\n",
    "        others_df[col] = gender_df[col]\n",
    "\n",
    "male_df['total_males'] = male_df.sum(axis=1)\n",
    "female_df['total_females'] = female_df.sum(axis=1)\n",
    "others_df['total_others'] = others_df.sum(axis=1)"
   ]
  },
  {
   "cell_type": "code",
   "execution_count": 11,
   "metadata": {},
   "outputs": [],
   "source": [
    "final_df = pd.DataFrame()\n",
    "final_df['gender_males'] = male_df['total_males']\n",
    "final_df['gender_females'] = female_df['total_females']\n",
    "final_df['gender_other'] = others_df['total_others']\n",
    "final_df['gender_total'] = final_df.sum(axis=1)\n",
    "final_df['prop_males'] = [(i/j)*100 for i,j in zip(final_df['gender_males'], final_df['gender_total'])]\n",
    "final_df['prop_females'] = [(i/j)*100 for i,j in zip(final_df['gender_females'], final_df['gender_total'])]\n",
    "final_df['prop_other'] = [(i/j)*100 for i,j in zip(final_df['gender_other'], final_df['gender_total'])]"
   ]
  },
  {
   "cell_type": "code",
   "execution_count": 12,
   "metadata": {},
   "outputs": [
    {
     "data": {
      "text/plain": [
       "Text(0,0.5,'Percentage %')"
      ]
     },
     "execution_count": 12,
     "metadata": {},
     "output_type": "execute_result"
    },
    {
     "data": {
      "image/png": "[encoded data removed]",
      "text/plain": [
       "<Figure size 480x350 with 1 Axes>"
      ]
     },
     "metadata": {},
     "output_type": "display_data"
    }
   ],
   "source": [
    "#plt.style.use('fivethirtyeight')\n",
    "plt.style.use('seaborn-darkgrid')\n",
    "my_dpi=96                               # DPI stands for DOTS PER INCH\n",
    "plt.figure(figsize=(480/my_dpi, 350/my_dpi), dpi=my_dpi)\n",
    " \n",
    "# multiple line plot\n",
    "plt.plot(list(final_df.index), final_df['prop_males'], marker='', \n",
    "         color='grey', linewidth=1, alpha=0.4)\n",
    "plt.plot(list(final_df.index), final_df['prop_other'], marker='', \n",
    "         color='purple', linewidth=3, alpha=0.4)\n",
    "# Now re do the interesting curve, but biger with distinct color\n",
    "plt.plot(list(final_df.index), final_df['prop_females'], marker='', \n",
    "         color='orange', linewidth=4, alpha=0.7)\n",
    "\n",
    "# Change xlim\n",
    "# plt.xlim(0,12)\n",
    " \n",
    "# Let's annotate the plot\n",
    "# num=0\n",
    "# for i in df.values[9][1:]:\n",
    "#    num+=1\n",
    "#    name=list(df)[num]\n",
    "#    if name != 'y5':\n",
    "#       plt.text(10.2, i, name, horizontalalignment='left', size='small', color='grey')\n",
    " \n",
    "plt.text(4.3, final_df.prop_males.tail(1), \n",
    "         'Males', horizontalalignment='left', size='small', color='grey')\n",
    "plt.text(4.3, final_df.prop_other.tail(1), \n",
    "         'Others', horizontalalignment='left', size='large', color='purple')\n",
    "\n",
    "# And add a special annotation for the group we are interested in\n",
    "plt.text(4.3, final_df.prop_females.tail(1), \n",
    "         'Females', horizontalalignment='left', size='large', color='orange')\n",
    " \n",
    "# Add titles\n",
    "plt.title(\"Evolution of proportion per gender in industry\", loc='left', fontsize=12, fontweight=0, color='orange')\n",
    "plt.xlabel(\"Time\")\n",
    "plt.ylabel(\"Percentage %\")\n"
   ]
  },
  {
   "cell_type": "code",
   "execution_count": 13,
   "metadata": {},
   "outputs": [
    {
     "name": "stdout",
     "output_type": "stream",
     "text": [
      "YEAR df_2011\n",
      "Python appears in column Unnamed: 34\n",
      "Java appears in column Which languages are you proficient in?\n",
      "Java appears in column Unnamed: 31\n",
      "Ruby appears in column Unnamed: 35\n",
      "PHP appears in column Unnamed: 33\n",
      "YEAR df_2012\n",
      "Python appears in column Unnamed: 26\n",
      "Java appears in column Which languages are you proficient in?\n",
      "Java appears in column Unnamed: 23\n",
      "Ruby appears in column Unnamed: 28\n",
      "PHP appears in column Unnamed: 25\n",
      "YEAR df_2013\n",
      "Python appears in column Unnamed: 66\n",
      "Java appears in column Unnamed: 59\n",
      "Java appears in column Unnamed: 60\n",
      "Ruby appears in column Unnamed: 67\n",
      "PHP appears in column Unnamed: 65\n",
      "YEAR df_2014\n",
      "Python appears in column Unnamed: 50\n",
      "Java appears in column Unnamed: 45\n",
      "Java appears in column Unnamed: 46\n",
      "Ruby appears in column Unnamed: 51\n",
      "PHP appears in column Unnamed: 49\n",
      "YEAR df_2015\n",
      "Python appears in column Current Lang & Tech: Python\n",
      "Python appears in column Future Lang & Tech: Python\n",
      "Java appears in column Current Lang & Tech: Java\n",
      "Java appears in column Current Lang & Tech: JavaScript\n",
      "Java appears in column Future Lang & Tech: Java\n",
      "Java appears in column Future Lang & Tech: JavaScript\n",
      "Ruby appears in column Current Lang & Tech: Ruby\n",
      "Ruby appears in column Future Lang & Tech: Ruby\n",
      "PHP appears in column Current Lang & Tech: PHP\n",
      "PHP appears in column Future Lang & Tech: PHP\n",
      "YEAR df_2016\n",
      "Java appears in column tech_do\n",
      "YEAR df_2017\n",
      "Java appears in column HaveWorkedLanguage\n",
      "Java appears in column WantWorkLanguage\n",
      "YEAR df_2018\n",
      "Python appears in column LanguageDesireNextYear\n",
      "Java appears in column LanguageWorkedWith\n"
     ]
    }
   ],
   "source": [
    "tech_lang_keys = ['Python', 'Java', 'Ruby',\n",
    "               'Javascript', 'PHP', 'Woman', 'woman']\n",
    "\n",
    "inspect_dfs(tech_lang_keys, year_dfs)"
   ]
  },
  {
   "cell_type": "code",
   "execution_count": 14,
   "metadata": {},
   "outputs": [],
   "source": [
    "languages_2011 = {}\n",
    "df_2011_lang = year_dfs['df_2011'].iloc[:,30:41]\n",
    "for i, col in enumerate(df_2011_lang.columns):\n",
    "    name = df_2011_lang.iloc[0,i].strip()\n",
    "    languages_2011[name] = df_2011_lang[col].value_counts()[0]"
   ]
  },
  {
   "cell_type": "code",
   "execution_count": 15,
   "metadata": {},
   "outputs": [],
   "source": [
    "languages_2012 = {}\n",
    "df_2012_lang = year_dfs['df_2012'].iloc[:,22:35]\n",
    "for i, col in enumerate(df_2012_lang.columns):\n",
    "    name = df_2012_lang.iloc[0,i].strip()\n",
    "    languages_2012[name] = df_2012_lang[col].value_counts()[0]"
   ]
  },
  {
   "cell_type": "code",
   "execution_count": 16,
   "metadata": {},
   "outputs": [],
   "source": [
    "languages_2013 = {}\n",
    "df_2013_lang = year_dfs['df_2013'].iloc[:,56:81]\n",
    "for i, col in enumerate(df_2013_lang.columns):\n",
    "    name = df_2013_lang.iloc[0,i].strip()\n",
    "    languages_2013[name] = df_2013_lang[col].value_counts()[0]"
   ]
  },
  {
   "cell_type": "code",
   "execution_count": 17,
   "metadata": {},
   "outputs": [],
   "source": [
    "languages_2014 = {}\n",
    "df_2014_lang = year_dfs['df_2014'].iloc[:,42:67]\n",
    "for i, col in enumerate(df_2014_lang.columns):\n",
    "    name = df_2014_lang.iloc[0,i].strip()\n",
    "    languages_2014[name] = df_2014_lang[col].value_counts()[0]"
   ]
  },
  {
   "cell_type": "code",
   "execution_count": 18,
   "metadata": {},
   "outputs": [],
   "source": [
    "languages_2015 = {}\n",
    "for i,col in enumerate(year_dfs['df_2015'].columns):\n",
    "    if 'Current Lang & Tech' in col:\n",
    "        name = col.split(':')[1].strip()\n",
    "        a = year_dfs['df_2015'][col].value_counts()[0]\n",
    "        languages_2015[name] = a        "
   ]
  },
  {
   "cell_type": "code",
   "execution_count": 19,
   "metadata": {},
   "outputs": [],
   "source": [
    "languages_2016 = {}\n",
    "for line in year_dfs['df_2016']['tech_do']:\n",
    "    try:\n",
    "        for lang in line.split(';'):\n",
    "            lang = lang.strip()\n",
    "            if lang not in languages_2016.keys():\n",
    "                languages_2016[lang] = 1\n",
    "            if lang in languages_2016.keys():\n",
    "                languages_2016[lang] += 1\n",
    "    except AttributeError:\n",
    "        continue"
   ]
  },
  {
   "cell_type": "code",
   "execution_count": 20,
   "metadata": {},
   "outputs": [],
   "source": [
    "languages_2017 = {}\n",
    "for line in year_dfs['df_2017']['HaveWorkedLanguage']:\n",
    "    try:\n",
    "        for lang in line.split(';'):\n",
    "            lang = lang.strip()\n",
    "            if lang not in languages_2017.keys():\n",
    "                languages_2017[lang] = 1\n",
    "            if lang in languages_2017.keys():\n",
    "                languages_2017[lang] += 1\n",
    "    except AttributeError:\n",
    "        continue"
   ]
  },
  {
   "cell_type": "code",
   "execution_count": 21,
   "metadata": {},
   "outputs": [],
   "source": [
    "languages_2018 = {}\n",
    "for line in year_dfs['df_2018']['LanguageWorkedWith']:\n",
    "    try:\n",
    "        for lang in line.split(';'):\n",
    "            lang = lang.strip()\n",
    "            if lang not in languages_2018.keys():\n",
    "                languages_2018[lang] = 1\n",
    "            if lang in languages_2018.keys():\n",
    "                languages_2018[lang] += 1\n",
    "    except AttributeError:\n",
    "        continue\n"
   ]
  },
  {
   "cell_type": "code",
   "execution_count": 22,
   "metadata": {},
   "outputs": [],
   "source": [
    "df_lang = pd.DataFrame([languages_2011, languages_2012, languages_2013,\n",
    "                        languages_2014, languages_2015, languages_2016,\n",
    "                        languages_2017, languages_2018], \n",
    "                        index = ['2011','2012','2013','2014',\n",
    "                                 '2015','2016','2017','2018'])\n",
    "# df_lang = df_lang.drop('Dart', axis=1)\n",
    "# Drop columns(languages) with more than 50% of missing values\n",
    "df_lang = df_lang.loc[:, df_lang.isnull().mean() < 0.5]\n",
    "# Calculate total developers per year\n",
    "df_lang['total'] = df_lang.sum(axis=1)\n",
    "# Replace abs.values for proportions to the total of each year\n",
    "for col in (df_lang.drop('total', axis=1).columns):\n",
    "    df_lang[col] = [(i/j)*100 for i,j in zip(df_lang[col], df_lang['total'])]"
   ]
  },
  {
   "cell_type": "markdown",
   "metadata": {},
   "source": [
    "For the sake oh the multiple lineplot we´re planning to create, let´s input values to the missing ones:\n",
    "- Use the interpolate function to input values in missing points building a straight line from the previous and next known values. This doesn´t work if we don´t have either previous or next values.\n",
    "- For missing values in older years with no previous information, is maybe better to leave as they are rathe than imputing invented values we don´t really know. They will start 'later' in the time series lineplot."
   ]
  },
  {
   "cell_type": "code",
   "execution_count": 23,
   "metadata": {},
   "outputs": [],
   "source": [
    "for col in df_lang.columns: \n",
    "    if df_lang[col].isnull().sum() != 0:\n",
    "        df_lang[col].interpolate(method='linear', inplace=True)"
   ]
  },
  {
   "cell_type": "code",
   "execution_count": 24,
   "metadata": {},
   "outputs": [
    {
     "data": {
      "text/html": [
       "<div>\n",
       "<style scoped>\n",
       "    .dataframe tbody tr th:only-of-type {\n",
       "        vertical-align: middle;\n",
       "    }\n",
       "\n",
       "    .dataframe tbody tr th {\n",
       "        vertical-align: top;\n",
       "    }\n",
       "\n",
       "    .dataframe thead th {\n",
       "        text-align: right;\n",
       "    }\n",
       "</style>\n",
       "<table border=\"1\" class=\"dataframe\">\n",
       "  <thead>\n",
       "    <tr style=\"text-align: right;\">\n",
       "      <th></th>\n",
       "      <th>C</th>\n",
       "      <th>C#</th>\n",
       "      <th>C++</th>\n",
       "      <th>CoffeeScript</th>\n",
       "      <th>Dart</th>\n",
       "      <th>F#</th>\n",
       "      <th>Go</th>\n",
       "      <th>Haskell</th>\n",
       "      <th>Java</th>\n",
       "      <th>JavaScript</th>\n",
       "      <th>Objective-C</th>\n",
       "      <th>PHP</th>\n",
       "      <th>Perl</th>\n",
       "      <th>Python</th>\n",
       "      <th>Ruby</th>\n",
       "      <th>SQL</th>\n",
       "      <th>total</th>\n",
       "    </tr>\n",
       "  </thead>\n",
       "  <tbody>\n",
       "    <tr>\n",
       "      <th>2011</th>\n",
       "      <td>8.227147</td>\n",
       "      <td>16.024931</td>\n",
       "      <td>8.047091</td>\n",
       "      <td>NaN</td>\n",
       "      <td>NaN</td>\n",
       "      <td>NaN</td>\n",
       "      <td>NaN</td>\n",
       "      <td>NaN</td>\n",
       "      <td>9.819945</td>\n",
       "      <td>16.675900</td>\n",
       "      <td>NaN</td>\n",
       "      <td>8.850416</td>\n",
       "      <td>3.490305</td>\n",
       "      <td>6.357341</td>\n",
       "      <td>3.157895</td>\n",
       "      <td>19.349030</td>\n",
       "      <td>7220.0</td>\n",
       "    </tr>\n",
       "    <tr>\n",
       "      <th>2012</th>\n",
       "      <td>7.388981</td>\n",
       "      <td>13.395983</td>\n",
       "      <td>7.579387</td>\n",
       "      <td>NaN</td>\n",
       "      <td>NaN</td>\n",
       "      <td>NaN</td>\n",
       "      <td>NaN</td>\n",
       "      <td>NaN</td>\n",
       "      <td>11.983293</td>\n",
       "      <td>16.768012</td>\n",
       "      <td>3.101775</td>\n",
       "      <td>9.993244</td>\n",
       "      <td>2.530557</td>\n",
       "      <td>6.154413</td>\n",
       "      <td>3.052638</td>\n",
       "      <td>18.051717</td>\n",
       "      <td>16281.0</td>\n",
       "    </tr>\n",
       "    <tr>\n",
       "      <th>2013</th>\n",
       "      <td>4.664366</td>\n",
       "      <td>11.581433</td>\n",
       "      <td>5.568171</td>\n",
       "      <td>3.769643</td>\n",
       "      <td>1.503315</td>\n",
       "      <td>2.357162</td>\n",
       "      <td>NaN</td>\n",
       "      <td>3.120174</td>\n",
       "      <td>10.595876</td>\n",
       "      <td>17.948951</td>\n",
       "      <td>3.519847</td>\n",
       "      <td>8.302298</td>\n",
       "      <td>2.098294</td>\n",
       "      <td>6.412935</td>\n",
       "      <td>2.906713</td>\n",
       "      <td>17.749114</td>\n",
       "      <td>22018.0</td>\n",
       "    </tr>\n",
       "    <tr>\n",
       "      <th>2014</th>\n",
       "      <td>4.794873</td>\n",
       "      <td>11.701093</td>\n",
       "      <td>5.859129</td>\n",
       "      <td>2.517595</td>\n",
       "      <td>1.522000</td>\n",
       "      <td>2.454655</td>\n",
       "      <td>2.878068</td>\n",
       "      <td>2.752189</td>\n",
       "      <td>10.768439</td>\n",
       "      <td>18.058019</td>\n",
       "      <td>3.272873</td>\n",
       "      <td>7.426904</td>\n",
       "      <td>1.666032</td>\n",
       "      <td>6.208159</td>\n",
       "      <td>2.775076</td>\n",
       "      <td>17.010929</td>\n",
       "      <td>17477.0</td>\n",
       "    </tr>\n",
       "    <tr>\n",
       "      <th>2015</th>\n",
       "      <td>5.155536</td>\n",
       "      <td>11.518547</td>\n",
       "      <td>6.545043</td>\n",
       "      <td>1.349055</td>\n",
       "      <td>0.169896</td>\n",
       "      <td>0.291250</td>\n",
       "      <td>0.784758</td>\n",
       "      <td>0.473282</td>\n",
       "      <td>12.487359</td>\n",
       "      <td>19.944582</td>\n",
       "      <td>2.930707</td>\n",
       "      <td>10.343433</td>\n",
       "      <td>1.233769</td>\n",
       "      <td>8.017475</td>\n",
       "      <td>2.959023</td>\n",
       "      <td>15.796287</td>\n",
       "      <td>49442.0</td>\n",
       "    </tr>\n",
       "    <tr>\n",
       "      <th>2016</th>\n",
       "      <td>5.143449</td>\n",
       "      <td>11.160451</td>\n",
       "      <td>6.470764</td>\n",
       "      <td>1.261799</td>\n",
       "      <td>0.162578</td>\n",
       "      <td>0.368834</td>\n",
       "      <td>1.159076</td>\n",
       "      <td>0.552442</td>\n",
       "      <td>12.609093</td>\n",
       "      <td>20.144298</td>\n",
       "      <td>2.402271</td>\n",
       "      <td>9.213559</td>\n",
       "      <td>1.199518</td>\n",
       "      <td>8.665162</td>\n",
       "      <td>3.291192</td>\n",
       "      <td>16.195514</td>\n",
       "      <td>123633.0</td>\n",
       "    </tr>\n",
       "    <tr>\n",
       "      <th>2017</th>\n",
       "      <td>4.421064</td>\n",
       "      <td>12.064125</td>\n",
       "      <td>5.683100</td>\n",
       "      <td>1.130848</td>\n",
       "      <td>0.139060</td>\n",
       "      <td>0.446042</td>\n",
       "      <td>1.537533</td>\n",
       "      <td>0.369953</td>\n",
       "      <td>11.993283</td>\n",
       "      <td>21.328681</td>\n",
       "      <td>2.240705</td>\n",
       "      <td>8.083856</td>\n",
       "      <td>1.167581</td>\n",
       "      <td>9.031039</td>\n",
       "      <td>3.274473</td>\n",
       "      <td>17.088657</td>\n",
       "      <td>38113.0</td>\n",
       "    </tr>\n",
       "    <tr>\n",
       "      <th>2018</th>\n",
       "      <td>5.493197</td>\n",
       "      <td>9.970674</td>\n",
       "      <td>6.331951</td>\n",
       "      <td>1.028640</td>\n",
       "      <td>0.139060</td>\n",
       "      <td>0.437636</td>\n",
       "      <td>2.144920</td>\n",
       "      <td>0.685386</td>\n",
       "      <td>12.051550</td>\n",
       "      <td>20.076741</td>\n",
       "      <td>1.987056</td>\n",
       "      <td>8.227436</td>\n",
       "      <td>1.183695</td>\n",
       "      <td>10.776845</td>\n",
       "      <td>3.097156</td>\n",
       "      <td>16.507118</td>\n",
       "      <td>178002.0</td>\n",
       "    </tr>\n",
       "  </tbody>\n",
       "</table>\n",
       "</div>"
      ],
      "text/plain": [
       "             C         C#       C++  CoffeeScript      Dart        F#  \\\n",
       "2011  8.227147  16.024931  8.047091           NaN       NaN       NaN   \n",
       "2012  7.388981  13.395983  7.579387           NaN       NaN       NaN   \n",
       "2013  4.664366  11.581433  5.568171      3.769643  1.503315  2.357162   \n",
       "2014  4.794873  11.701093  5.859129      2.517595  1.522000  2.454655   \n",
       "2015  5.155536  11.518547  6.545043      1.349055  0.169896  0.291250   \n",
       "2016  5.143449  11.160451  6.470764      1.261799  0.162578  0.368834   \n",
       "2017  4.421064  12.064125  5.683100      1.130848  0.139060  0.446042   \n",
       "2018  5.493197   9.970674  6.331951      1.028640  0.139060  0.437636   \n",
       "\n",
       "            Go   Haskell       Java  JavaScript  Objective-C        PHP  \\\n",
       "2011       NaN       NaN   9.819945   16.675900          NaN   8.850416   \n",
       "2012       NaN       NaN  11.983293   16.768012     3.101775   9.993244   \n",
       "2013       NaN  3.120174  10.595876   17.948951     3.519847   8.302298   \n",
       "2014  2.878068  2.752189  10.768439   18.058019     3.272873   7.426904   \n",
       "2015  0.784758  0.473282  12.487359   19.944582     2.930707  10.343433   \n",
       "2016  1.159076  0.552442  12.609093   20.144298     2.402271   9.213559   \n",
       "2017  1.537533  0.369953  11.993283   21.328681     2.240705   8.083856   \n",
       "2018  2.144920  0.685386  12.051550   20.076741     1.987056   8.227436   \n",
       "\n",
       "          Perl     Python      Ruby        SQL     total  \n",
       "2011  3.490305   6.357341  3.157895  19.349030    7220.0  \n",
       "2012  2.530557   6.154413  3.052638  18.051717   16281.0  \n",
       "2013  2.098294   6.412935  2.906713  17.749114   22018.0  \n",
       "2014  1.666032   6.208159  2.775076  17.010929   17477.0  \n",
       "2015  1.233769   8.017475  2.959023  15.796287   49442.0  \n",
       "2016  1.199518   8.665162  3.291192  16.195514  123633.0  \n",
       "2017  1.167581   9.031039  3.274473  17.088657   38113.0  \n",
       "2018  1.183695  10.776845  3.097156  16.507118  178002.0  "
      ]
     },
     "execution_count": 24,
     "metadata": {},
     "output_type": "execute_result"
    }
   ],
   "source": [
    "df_lang"
   ]
  },
  {
   "cell_type": "code",
   "execution_count": 25,
   "metadata": {},
   "outputs": [
    {
     "data": {
      "text/plain": [
       "True"
      ]
     },
     "execution_count": 25,
     "metadata": {},
     "output_type": "execute_result"
    }
   ],
   "source": [
    "df_lang[col].tail(1)[0] > 5"
   ]
  },
  {
   "cell_type": "code",
   "execution_count": 26,
   "metadata": {},
   "outputs": [
    {
     "data": {
      "text/plain": [
       "Text(0,0.5,'Percentage %')"
      ]
     },
     "execution_count": 26,
     "metadata": {},
     "output_type": "execute_result"
    },
    {
     "data": {
      "image/png": "[encoded data removed]",
      "text/plain": [
       "<Figure size 600x400 with 1 Axes>"
      ]
     },
     "metadata": {},
     "output_type": "display_data"
    }
   ],
   "source": [
    "#plt.style.use('fivethirtyeight')\n",
    "plt.style.use('seaborn-darkgrid')\n",
    "my_dpi=96                               # DPI stands for DOTS PER INCH\n",
    "plt.figure(figsize=(600/my_dpi, 400/my_dpi), dpi=my_dpi)\n",
    "interesting_curves = ['Python','JavaScript','Ruby','Go']\n",
    "colors = ['orange', 'purple','blue', 'green']\n",
    "\n",
    "# multiple line plot\n",
    "for col in df_lang.drop(interesting_curves + ['total'], axis=1).columns:\n",
    "    plt.plot(list(df_lang.index), df_lang[col], marker='', \n",
    "             color='grey', linewidth=1, alpha=4) \n",
    "# plotting INTERESTING CURVES\n",
    "for col, color in zip(interesting_curves, colors):\n",
    "    plt.plot(list(df_lang.index), df_lang[col], marker='',\n",
    "             color = color, linewidth=3, alpha=0.4)\n",
    "# Annotations for each plotline\n",
    "for col in df_lang.drop(interesting_curves + ['total'], axis=1).columns:\n",
    "    if df_lang[col].tail(1)[0] > 5:\n",
    "        plt.text(7.1, df_lang[col].tail(1), \n",
    "                 col, horizontalalignment='left', size='small', color='grey')      \n",
    "# Annotations for INTERESTING CURVES  \n",
    "for col, color in zip(interesting_curves, colors):\n",
    "    plt.text(7.1, df_lang[col].tail(1), \n",
    "             col, horizontalalignment='left', size='large', color=color)\n",
    "             \n",
    "# Add titles\n",
    "plt.title(\"Evolution programming languages used by people working in tech\", \n",
    "          loc='left', fontsize=12, fontweight=0, color='orange')\n",
    "plt.xlabel(\"Year\")\n",
    "plt.ylabel(\"Percentage %\")"
   ]
  },
  {
   "cell_type": "markdown",
   "metadata": {},
   "source": [
    "**Analyze last year information**\n",
    "\n",
    "Now that we know about both features have evoluted along the years, let´s focus on the last DataFrame to get deeper what kind of companies, job roles, etc women are placed in. Let´s change from time-series to a less dynamic type of data."
   ]
  },
  {
   "cell_type": "markdown",
   "metadata": {},
   "source": [
    "**First, let´s create a DataFrame contining just instances for females, and other one just for males.**"
   ]
  },
  {
   "cell_type": "code",
   "execution_count": 27,
   "metadata": {},
   "outputs": [],
   "source": [
    "# Reduce the number of different gender categories to just Male, Female and Other\n",
    "def split_males_females(df):\n",
    "    female_values_replace = []\n",
    "    others_values_replace = []\n",
    "    for gender in df[df['Gender'] != 'Female']['Gender']: \n",
    "        try:\n",
    "            if ('Female' in gender) and (gender not in female_values_replace):\n",
    "                female_values_replace.append(gender)\n",
    "            if gender != 'Male':\n",
    "                others_values_replace.append(gender)\n",
    "        except TypeError:\n",
    "            continue\n",
    "\n",
    "    df['Gender'].replace(female_values_replace, 'Female', inplace=True)\n",
    "    df['Gender'].replace(others_values_replace, 'Other', inplace=True)\n",
    "    df_females = df[df['Gender'] == 'Female']\n",
    "    df_males = df[df['Gender'] == 'Male']\n",
    "    return df_males, df_females"
   ]
  },
  {
   "cell_type": "code",
   "execution_count": 28,
   "metadata": {},
   "outputs": [],
   "source": [
    "df_2018_males, df_2018_females = split_males_females(year_dfs['df_2018'])"
   ]
  },
  {
   "cell_type": "markdown",
   "metadata": {},
   "source": [
    "Now we can start analyzing what happens when **inspecting different features** as: Country, FormalEducation, CompanySize, YearsCoding, LanguageWorkedWith, DevType"
   ]
  },
  {
   "cell_type": "code",
   "execution_count": 29,
   "metadata": {},
   "outputs": [],
   "source": [
    "def create_df_proportions_between_genders(df_female, df_male, feature): \n",
    "    females_info = dict(df_2018_females[feature].value_counts()[:15])\n",
    "    males_info = dict(df_2018_males[feature].value_counts()[:15])\n",
    "    df_gender_feature = pd.DataFrame([females_info, males_info], \n",
    "                     index= ['Female', 'Male']).dropna(how = 'any', axis=1)\n",
    "    for feat in df_gender_feature.columns:\n",
    "        total_feat = df_gender_feature[feat].sum(axis=0)\n",
    "        df_gender_feature[feat] = [(i/total_feat)*100 \n",
    "                                      for i in df_gender_feature[feat]]\n",
    "    final = df_gender_feature.sort_values('Female', axis=1, ascending = False)\n",
    "    return final"
   ]
  },
  {
   "cell_type": "markdown",
   "metadata": {},
   "source": [
    "As **'DevType'** and **'LanguageWorkedWith'** are answered in batches, **let´s build a function to split them and count.**"
   ]
  },
  {
   "cell_type": "code",
   "execution_count": 30,
   "metadata": {},
   "outputs": [],
   "source": [
    "def split_progr_lang(df, feat_name):\n",
    "    lang_usage = {}\n",
    "    for item in list(df[feat_name]):\n",
    "        try:\n",
    "            for lang in item.split(';'):\n",
    "                if lang not in lang_usage.keys():\n",
    "                    lang_usage[lang] = 1\n",
    "                else:\n",
    "                    lang_usage[lang] += 1\n",
    "        except AttributeError:\n",
    "            continue\n",
    "    return lang_usage"
   ]
  },
  {
   "cell_type": "code",
   "execution_count": 31,
   "metadata": {},
   "outputs": [],
   "source": [
    "# Build a DataFrame with proportions of genders per programming language\n",
    "female_lang_usage = split_progr_lang(df_2018_females, 'LanguageWorkedWith')\n",
    "male_lang_usage = split_progr_lang(df_2018_males, 'LanguageWorkedWith')\n",
    "\n",
    "df_gender_lang = pd.DataFrame([female_lang_usage, male_lang_usage], \n",
    "                     index= ['Female', 'Male']).dropna(how = 'any', axis=1)\n",
    "for lang in df_gender_lang.columns:\n",
    "    total_lang = df_gender_lang[lang].sum(axis=0)\n",
    "    df_gender_lang[lang] = [(i/total_lang)*100 \n",
    "                                  for i in df_gender_lang[lang]]"
   ]
  },
  {
   "cell_type": "code",
   "execution_count": 32,
   "metadata": {},
   "outputs": [],
   "source": [
    "# Build a DataFrame with proportions of genders per type of developer\n",
    "female_dev_type = split_progr_lang(df_2018_females, 'DevType')\n",
    "male_dev_type = split_progr_lang(df_2018_males, 'DevType')\n",
    "\n",
    "df_gender_dev = pd.DataFrame([female_dev_type, male_dev_type], \n",
    "                     index= ['Female', 'Male']).dropna(how = 'any', axis=1)\n",
    "for dev in df_gender_dev.columns:\n",
    "    total_dev = df_gender_dev[dev].sum(axis=0)\n",
    "    df_gender_dev[dev] = [(i/total_dev)*100 \n",
    "                                  for i in df_gender_dev[dev]]"
   ]
  },
  {
   "cell_type": "code",
   "execution_count": 33,
   "metadata": {},
   "outputs": [],
   "source": [
    "df_gender_lang = df_gender_lang.sort_values('Female', axis=1, ascending = False)\n",
    "\n",
    "df_gender_dev = df_gender_dev.sort_values('Female', axis=1, ascending = False)\n",
    "\n",
    "df_gender_CompanySize = create_df_proportions_between_genders(df_2018_females, \n",
    "                                                df_2018_males, 'CompanySize')\n",
    "df_gender_country = create_df_proportions_between_genders(df_2018_females, \n",
    "                                                df_2018_males, 'Country')\n",
    "df_gender_education = create_df_proportions_between_genders(df_2018_females, \n",
    "                                                df_2018_males, 'FormalEducation')\n",
    "df_gender_YearsCoding = create_df_proportions_between_genders(df_2018_females, \n",
    "                                                df_2018_males, 'YearsCoding')"
   ]
  },
  {
   "cell_type": "code",
   "execution_count": 34,
   "metadata": {},
   "outputs": [
    {
     "data": {
      "text/html": [
       "<div>\n",
       "<style scoped>\n",
       "    .dataframe tbody tr th:only-of-type {\n",
       "        vertical-align: middle;\n",
       "    }\n",
       "\n",
       "    .dataframe tbody tr th {\n",
       "        vertical-align: top;\n",
       "    }\n",
       "\n",
       "    .dataframe thead th {\n",
       "        text-align: right;\n",
       "    }\n",
       "</style>\n",
       "<table border=\"1\" class=\"dataframe\">\n",
       "  <thead>\n",
       "    <tr style=\"text-align: right;\">\n",
       "      <th></th>\n",
       "      <th>Educator or academic researcher</th>\n",
       "      <th>Marketing or sales professional</th>\n",
       "      <th>QA or test developer</th>\n",
       "      <th>Student</th>\n",
       "      <th>Data scientist or machine learning specialist</th>\n",
       "      <th>Designer</th>\n",
       "      <th>Data or business analyst</th>\n",
       "      <th>Front-end developer</th>\n",
       "      <th>Mobile developer</th>\n",
       "      <th>Product manager</th>\n",
       "      <th>Full-stack developer</th>\n",
       "      <th>Back-end developer</th>\n",
       "      <th>Game or graphics developer</th>\n",
       "      <th>Database administrator</th>\n",
       "      <th>Desktop or enterprise applications developer</th>\n",
       "      <th>Engineering manager</th>\n",
       "      <th>Embedded applications or devices developer</th>\n",
       "      <th>DevOps specialist</th>\n",
       "      <th>System administrator</th>\n",
       "      <th>C-suite executive (CEO, CTO, etc.)</th>\n",
       "    </tr>\n",
       "  </thead>\n",
       "  <tbody>\n",
       "    <tr>\n",
       "      <th>Female</th>\n",
       "      <td>9.521028</td>\n",
       "      <td>7.939914</td>\n",
       "      <td>7.65688</td>\n",
       "      <td>7.614108</td>\n",
       "      <td>7.386209</td>\n",
       "      <td>6.699011</td>\n",
       "      <td>6.396966</td>\n",
       "      <td>6.386841</td>\n",
       "      <td>5.561662</td>\n",
       "      <td>5.366075</td>\n",
       "      <td>5.265702</td>\n",
       "      <td>5.082605</td>\n",
       "      <td>4.566684</td>\n",
       "      <td>4.53573</td>\n",
       "      <td>4.127021</td>\n",
       "      <td>4.102384</td>\n",
       "      <td>3.828484</td>\n",
       "      <td>3.686248</td>\n",
       "      <td>3.164444</td>\n",
       "      <td>2.658228</td>\n",
       "    </tr>\n",
       "    <tr>\n",
       "      <th>Male</th>\n",
       "      <td>90.478972</td>\n",
       "      <td>92.060086</td>\n",
       "      <td>92.34312</td>\n",
       "      <td>92.385892</td>\n",
       "      <td>92.613791</td>\n",
       "      <td>93.300989</td>\n",
       "      <td>93.603034</td>\n",
       "      <td>93.613159</td>\n",
       "      <td>94.438338</td>\n",
       "      <td>94.633925</td>\n",
       "      <td>94.734298</td>\n",
       "      <td>94.917395</td>\n",
       "      <td>95.433316</td>\n",
       "      <td>95.46427</td>\n",
       "      <td>95.872979</td>\n",
       "      <td>95.897616</td>\n",
       "      <td>96.171516</td>\n",
       "      <td>96.313752</td>\n",
       "      <td>96.835556</td>\n",
       "      <td>97.341772</td>\n",
       "    </tr>\n",
       "  </tbody>\n",
       "</table>\n",
       "</div>"
      ],
      "text/plain": [
       "        Educator or academic researcher  Marketing or sales professional  \\\n",
       "Female                         9.521028                         7.939914   \n",
       "Male                          90.478972                        92.060086   \n",
       "\n",
       "        QA or test developer    Student  \\\n",
       "Female               7.65688   7.614108   \n",
       "Male                92.34312  92.385892   \n",
       "\n",
       "        Data scientist or machine learning specialist   Designer  \\\n",
       "Female                                       7.386209   6.699011   \n",
       "Male                                        92.613791  93.300989   \n",
       "\n",
       "        Data or business analyst  Front-end developer  Mobile developer  \\\n",
       "Female                  6.396966             6.386841          5.561662   \n",
       "Male                   93.603034            93.613159         94.438338   \n",
       "\n",
       "        Product manager  Full-stack developer  Back-end developer  \\\n",
       "Female         5.366075              5.265702            5.082605   \n",
       "Male          94.633925             94.734298           94.917395   \n",
       "\n",
       "        Game or graphics developer  Database administrator  \\\n",
       "Female                    4.566684                 4.53573   \n",
       "Male                     95.433316                95.46427   \n",
       "\n",
       "        Desktop or enterprise applications developer  Engineering manager  \\\n",
       "Female                                      4.127021             4.102384   \n",
       "Male                                       95.872979            95.897616   \n",
       "\n",
       "        Embedded applications or devices developer  DevOps specialist  \\\n",
       "Female                                    3.828484           3.686248   \n",
       "Male                                     96.171516          96.313752   \n",
       "\n",
       "        System administrator  C-suite executive (CEO, CTO, etc.)  \n",
       "Female              3.164444                            2.658228  \n",
       "Male               96.835556                           97.341772  "
      ]
     },
     "execution_count": 34,
     "metadata": {},
     "output_type": "execute_result"
    }
   ],
   "source": [
    "df_gender_dev"
   ]
  },
  {
   "cell_type": "markdown",
   "metadata": {},
   "source": [
    "## What factors have a greater influence in the salary of a person?\n",
    "### Do they influence differently to women and men?\n",
    "- Let´s write a function (clean_data) to clean the data, considering dropping unnecesary columns, and handling missing values. For numerical columns we will input the mean of the feature, for categorical columns we´ll convert them into dummy variables.\n",
    "- Create one more function (find_optimal_lm_mod) to split data into train and test, instantiate a Linear Regression model, fit, predict and score such model. It will perform these tasks for a different amount of features, and plot the score of the model both in training and testig sets, to spot the best point of accuracy and avoid overfitting.\n",
    "- Apply the clean_data function and find_optimal_lm_mod funtion both to male and female dfs for the year 2018.\n",
    "- Compare coefficients from both models to realize what influence they have on the salary of a woman or a man. There will be any difference?"
   ]
  },
  {
   "cell_type": "code",
   "execution_count": 39,
   "metadata": {},
   "outputs": [],
   "source": [
    "df_2017_males, df_2017_females = split_males_females(year_dfs['df_2017'])"
   ]
  },
  {
   "cell_type": "code",
   "execution_count": 41,
   "metadata": {},
   "outputs": [],
   "source": [
    "def clean_data(df):\n",
    "    new_df = df[df['Salary'].isnull() == False]\n",
    "    X = new_df.drop('Salary', axis=1)\n",
    "    y = new_df['Salary']\n",
    "    X.drop(['Respondent', 'ExpectedSalary'], axis = 1, inplace =True)\n",
    "    \n",
    "    num_cols = X.select_dtypes(include=['float', 'int']).columns\n",
    "    print('there are {} numerical columns'.format(len(num_cols)))\n",
    "    for col in num_cols:\n",
    "        try:\n",
    "            X[col].fillna(X[col].mean(), inplace=True)\n",
    "        except:\n",
    "            continue \n",
    "    \n",
    "    cat_cols = list(X.select_dtypes(include = ['object']).copy().columns)\n",
    "    for col in cat_cols:\n",
    "        try:\n",
    "            X = pd.concat([X.drop(col, axis=1), pd.get_dummies(X[col], prefix = col, prefix_sep = '_', drop_first=True)], axis = 1)   \n",
    "        except:\n",
    "            continue\n",
    "    return X, y"
   ]
  },
  {
   "cell_type": "code",
   "execution_count": 36,
   "metadata": {},
   "outputs": [],
   "source": [
    "def find_optimal_lm_mod(X, y, cutoffs, test_size = .30, random_state=42, plot=True):\n",
    "    r2_scores_test, r2_scores_train, num_feats, results = [], [], [], dict()\n",
    "    for cutoff in cutoffs:\n",
    "\n",
    "        #reduce X matrix\n",
    "        reduce_X = X.iloc[:, np.where((X.sum() > cutoff) == True)[0]]\n",
    "        num_feats.append(reduce_X.shape[1])\n",
    "\n",
    "        #split the data into train and test\n",
    "        X_train, X_test, y_train, y_test = train_test_split(reduce_X, y, test_size = test_size, random_state=random_state)\n",
    "\n",
    "        #fit the model and obtain pred response\n",
    "        lm_model = LinearRegression(normalize=True)\n",
    "        lm_model.fit(X_train, y_train)\n",
    "        y_test_preds = lm_model.predict(X_test)\n",
    "        y_train_preds = lm_model.predict(X_train)\n",
    "\n",
    "        #append the r2 value from the test set\n",
    "        r2_scores_test.append(r2_score(y_test, y_test_preds))\n",
    "        r2_scores_train.append(r2_score(y_train, y_train_preds))\n",
    "        results[str(cutoff)] = r2_score(y_test, y_test_preds)\n",
    "\n",
    "    if plot:\n",
    "        plt.plot(num_feats, r2_scores_test, label=\"Test\", alpha=.5)\n",
    "        plt.plot(num_feats, r2_scores_train, label=\"Train\", alpha=.5)\n",
    "        plt.xlabel('Number of Features')\n",
    "        plt.ylabel('Rsquared')\n",
    "        plt.title('Rsquared by Number of Features')\n",
    "        plt.legend(loc=1)\n",
    "        plt.show()\n",
    "\n",
    "    best_cutoff = max(results, key=results.get)\n",
    "\n",
    "    #reduce X matrix\n",
    "    reduce_X = X.iloc[:, np.where((X.sum() > int(best_cutoff)) == True)[0]]\n",
    "    num_feats.append(reduce_X.shape[1])\n",
    "\n",
    "    #split the data into train and test\n",
    "    X_train, X_test, y_train, y_test = train_test_split(reduce_X, y, test_size = test_size, random_state=random_state)\n",
    "\n",
    "    #fit the model\n",
    "    lm_model = LinearRegression(normalize=True)\n",
    "    lm_model.fit(X_train, y_train)\n",
    "\n",
    "    return r2_scores_test, r2_scores_train, lm_model, X_train, X_test, y_train, y_test\n"
   ]
  },
  {
   "cell_type": "code",
   "execution_count": 42,
   "metadata": {},
   "outputs": [
    {
     "name": "stdout",
     "output_type": "stream",
     "text": [
      "there are 4 numerical columns\n"
     ]
    }
   ],
   "source": [
    "X, y = clean_data(df_2017_females)"
   ]
  },
  {
   "cell_type": "code",
   "execution_count": null,
   "metadata": {},
   "outputs": [],
   "source": [
    "cutoffs = [5000, 3500, 2500, 1000, 100, 50, 30, 25]\n",
    "r2_scores_test, r2_scores_train, lm_model, X_train, X_test, y_train, y_test = find_optimal_lm_mod(X, y, cutoffs)"
   ]
  },
  {
   "cell_type": "code",
   "execution_count": null,
   "metadata": {},
   "outputs": [],
   "source": [
    "df_2017_males, df_2017_females"
   ]
  },
  {
   "cell_type": "code",
   "execution_count": 38,
   "metadata": {},
   "outputs": [
    {
     "ename": "ValueError",
     "evalue": "could not convert string to float: '72,500.00'",
     "output_type": "error",
     "traceback": [
      "\u001b[1;31m---------------------------------------------------------------------------\u001b[0m",
      "\u001b[1;31mValueError\u001b[0m                                Traceback (most recent call last)",
      "\u001b[1;32m<ipython-input-38-bb4a3bdeea6c>\u001b[0m in \u001b[0;36m<module>\u001b[1;34m()\u001b[0m\n\u001b[0;32m      1\u001b[0m \u001b[0mcutoffs\u001b[0m \u001b[1;33m=\u001b[0m \u001b[1;33m[\u001b[0m\u001b[1;36m5000\u001b[0m\u001b[1;33m,\u001b[0m \u001b[1;36m3500\u001b[0m\u001b[1;33m,\u001b[0m \u001b[1;36m2500\u001b[0m\u001b[1;33m,\u001b[0m \u001b[1;36m1000\u001b[0m\u001b[1;33m,\u001b[0m \u001b[1;36m100\u001b[0m\u001b[1;33m,\u001b[0m \u001b[1;36m50\u001b[0m\u001b[1;33m,\u001b[0m \u001b[1;36m30\u001b[0m\u001b[1;33m,\u001b[0m \u001b[1;36m25\u001b[0m\u001b[1;33m]\u001b[0m\u001b[1;33m\u001b[0m\u001b[0m\n\u001b[1;32m----> 2\u001b[1;33m \u001b[0mr2_scores_test\u001b[0m\u001b[1;33m,\u001b[0m \u001b[0mr2_scores_train\u001b[0m\u001b[1;33m,\u001b[0m \u001b[0mlm_model\u001b[0m\u001b[1;33m,\u001b[0m \u001b[0mX_train\u001b[0m\u001b[1;33m,\u001b[0m \u001b[0mX_test\u001b[0m\u001b[1;33m,\u001b[0m \u001b[0my_train\u001b[0m\u001b[1;33m,\u001b[0m \u001b[0my_test\u001b[0m \u001b[1;33m=\u001b[0m \u001b[0mfind_optimal_lm_mod\u001b[0m\u001b[1;33m(\u001b[0m\u001b[0mX\u001b[0m\u001b[1;33m,\u001b[0m \u001b[0my\u001b[0m\u001b[1;33m,\u001b[0m \u001b[0mcutoffs\u001b[0m\u001b[1;33m)\u001b[0m\u001b[1;33m\u001b[0m\u001b[0m\n\u001b[0m",
      "\u001b[1;32m<ipython-input-36-c571c4a0eb00>\u001b[0m in \u001b[0;36mfind_optimal_lm_mod\u001b[1;34m(X, y, cutoffs, test_size, random_state, plot)\u001b[0m\n\u001b[0;32m     12\u001b[0m         \u001b[1;31m#fit the model and obtain pred response\u001b[0m\u001b[1;33m\u001b[0m\u001b[1;33m\u001b[0m\u001b[0m\n\u001b[0;32m     13\u001b[0m         \u001b[0mlm_model\u001b[0m \u001b[1;33m=\u001b[0m \u001b[0mLinearRegression\u001b[0m\u001b[1;33m(\u001b[0m\u001b[0mnormalize\u001b[0m\u001b[1;33m=\u001b[0m\u001b[1;32mTrue\u001b[0m\u001b[1;33m)\u001b[0m\u001b[1;33m\u001b[0m\u001b[0m\n\u001b[1;32m---> 14\u001b[1;33m         \u001b[0mlm_model\u001b[0m\u001b[1;33m.\u001b[0m\u001b[0mfit\u001b[0m\u001b[1;33m(\u001b[0m\u001b[0mX_train\u001b[0m\u001b[1;33m,\u001b[0m \u001b[0my_train\u001b[0m\u001b[1;33m)\u001b[0m\u001b[1;33m\u001b[0m\u001b[0m\n\u001b[0m\u001b[0;32m     15\u001b[0m         \u001b[0my_test_preds\u001b[0m \u001b[1;33m=\u001b[0m \u001b[0mlm_model\u001b[0m\u001b[1;33m.\u001b[0m\u001b[0mpredict\u001b[0m\u001b[1;33m(\u001b[0m\u001b[0mX_test\u001b[0m\u001b[1;33m)\u001b[0m\u001b[1;33m\u001b[0m\u001b[0m\n\u001b[0;32m     16\u001b[0m         \u001b[0my_train_preds\u001b[0m \u001b[1;33m=\u001b[0m \u001b[0mlm_model\u001b[0m\u001b[1;33m.\u001b[0m\u001b[0mpredict\u001b[0m\u001b[1;33m(\u001b[0m\u001b[0mX_train\u001b[0m\u001b[1;33m)\u001b[0m\u001b[1;33m\u001b[0m\u001b[0m\n",
      "\u001b[1;32m~\\Anaconda3\\lib\\site-packages\\sklearn\\linear_model\\base.py\u001b[0m in \u001b[0;36mfit\u001b[1;34m(self, X, y, sample_weight)\u001b[0m\n\u001b[0;32m    480\u001b[0m         \u001b[0mn_jobs_\u001b[0m \u001b[1;33m=\u001b[0m \u001b[0mself\u001b[0m\u001b[1;33m.\u001b[0m\u001b[0mn_jobs\u001b[0m\u001b[1;33m\u001b[0m\u001b[0m\n\u001b[0;32m    481\u001b[0m         X, y = check_X_y(X, y, accept_sparse=['csr', 'csc', 'coo'],\n\u001b[1;32m--> 482\u001b[1;33m                          y_numeric=True, multi_output=True)\n\u001b[0m\u001b[0;32m    483\u001b[0m \u001b[1;33m\u001b[0m\u001b[0m\n\u001b[0;32m    484\u001b[0m         \u001b[1;32mif\u001b[0m \u001b[0msample_weight\u001b[0m \u001b[1;32mis\u001b[0m \u001b[1;32mnot\u001b[0m \u001b[1;32mNone\u001b[0m \u001b[1;32mand\u001b[0m \u001b[0mnp\u001b[0m\u001b[1;33m.\u001b[0m\u001b[0matleast_1d\u001b[0m\u001b[1;33m(\u001b[0m\u001b[0msample_weight\u001b[0m\u001b[1;33m)\u001b[0m\u001b[1;33m.\u001b[0m\u001b[0mndim\u001b[0m \u001b[1;33m>\u001b[0m \u001b[1;36m1\u001b[0m\u001b[1;33m:\u001b[0m\u001b[1;33m\u001b[0m\u001b[0m\n",
      "\u001b[1;32m~\\Anaconda3\\lib\\site-packages\\sklearn\\utils\\validation.py\u001b[0m in \u001b[0;36mcheck_X_y\u001b[1;34m(X, y, accept_sparse, dtype, order, copy, force_all_finite, ensure_2d, allow_nd, multi_output, ensure_min_samples, ensure_min_features, y_numeric, warn_on_dtype, estimator)\u001b[0m\n\u001b[0;32m    579\u001b[0m         \u001b[0m_assert_all_finite\u001b[0m\u001b[1;33m(\u001b[0m\u001b[0my\u001b[0m\u001b[1;33m)\u001b[0m\u001b[1;33m\u001b[0m\u001b[0m\n\u001b[0;32m    580\u001b[0m     \u001b[1;32mif\u001b[0m \u001b[0my_numeric\u001b[0m \u001b[1;32mand\u001b[0m \u001b[0my\u001b[0m\u001b[1;33m.\u001b[0m\u001b[0mdtype\u001b[0m\u001b[1;33m.\u001b[0m\u001b[0mkind\u001b[0m \u001b[1;33m==\u001b[0m \u001b[1;34m'O'\u001b[0m\u001b[1;33m:\u001b[0m\u001b[1;33m\u001b[0m\u001b[0m\n\u001b[1;32m--> 581\u001b[1;33m         \u001b[0my\u001b[0m \u001b[1;33m=\u001b[0m \u001b[0my\u001b[0m\u001b[1;33m.\u001b[0m\u001b[0mastype\u001b[0m\u001b[1;33m(\u001b[0m\u001b[0mnp\u001b[0m\u001b[1;33m.\u001b[0m\u001b[0mfloat64\u001b[0m\u001b[1;33m)\u001b[0m\u001b[1;33m\u001b[0m\u001b[0m\n\u001b[0m\u001b[0;32m    582\u001b[0m \u001b[1;33m\u001b[0m\u001b[0m\n\u001b[0;32m    583\u001b[0m     \u001b[0mcheck_consistent_length\u001b[0m\u001b[1;33m(\u001b[0m\u001b[0mX\u001b[0m\u001b[1;33m,\u001b[0m \u001b[0my\u001b[0m\u001b[1;33m)\u001b[0m\u001b[1;33m\u001b[0m\u001b[0m\n",
      "\u001b[1;31mValueError\u001b[0m: could not convert string to float: '72,500.00'"
     ]
    }
   ],
   "source": [
    "cutoffs = [5000, 3500, 2500, 1000, 100, 50, 30, 25]\n",
    "r2_scores_test, r2_scores_train, lm_model, X_train, X_test, y_train, y_test = find_optimal_lm_mod(X, y, cutoffs)"
   ]
  },
  {
   "cell_type": "code",
   "execution_count": null,
   "metadata": {},
   "outputs": [],
   "source": []
  },
  {
   "cell_type": "code",
   "execution_count": null,
   "metadata": {},
   "outputs": [],
   "source": []
  },
  {
   "cell_type": "code",
   "execution_count": null,
   "metadata": {},
   "outputs": [],
   "source": []
  },
  {
   "cell_type": "code",
   "execution_count": null,
   "metadata": {},
   "outputs": [],
   "source": []
  },
  {
   "cell_type": "code",
   "execution_count": null,
   "metadata": {},
   "outputs": [],
   "source": []
  },
  {
   "cell_type": "code",
   "execution_count": null,
   "metadata": {},
   "outputs": [],
   "source": []
  },
  {
   "cell_type": "code",
   "execution_count": null,
   "metadata": {},
   "outputs": [],
   "source": []
  }
 ],
 "metadata": {
  "kernelspec": {
   "display_name": "Python 3",
   "language": "python",
   "name": "python3"
  },
  "language_info": {
   "codemirror_mode": {
    "name": "ipython",
    "version": 3
   },
   "file_extension": ".py",
   "mimetype": "text/x-python",
   "name": "python",
   "nbconvert_exporter": "python",
   "pygments_lexer": "ipython3",
   "version": "3.6.5"
  }
 },
 "nbformat": 4,
 "nbformat_minor": 2
}
